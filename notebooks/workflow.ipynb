{
 "cells": [
  {
   "cell_type": "markdown",
   "metadata": {},
   "source": [
    "Aufgabe:\n",
    "Erstelle eine App, die eine der folgenden Funktionen implementiert:\n",
    "\n",
    "ENTWEDER: Fehlende Werte automatisch aus beliebigen CSV-Dateien entfernen, ähnlich wie in diesem Beispiel:\n",
    "https://drive.google.com/file/d/1SxNDorMb2ap3we3ZaCfR6NHjLBGBVG-S/view\n",
    "\n",
    "ODER: Den Umsatz für das Jahr 2022 aus jedem dieser PDF-Berichte extrahieren: https://drive.google.com/drive/folders/1bUOXwLdbK93l-SiEFa7EqYWI-RuOuYlK\n",
    "\n",
    "Details:\n",
    "Frontend: Die App kann ein Frontend nach deiner Wahl haben (z. B. mit Streamlit), muss aber nicht zwingend eines haben.\n",
    "Backend: Bitte verwende Python für das Backend.\n",
    "Datenbank: Du kannst SQLite, MySQL oder Postgres nutzen, um die bereinigten oder extrahierten Werte zu speichern.\n",
    "Bonus: Falls du ein LLM zur Lösung einer der Aufgaben verwendest, wäre das ein Pluspunkt.\n",
    "\n",
    "Du kannst etwa 4 Stunden für die Implementierung einplanen. Wir freuen uns auf dein Ergebnis! Könntest du uns bitte auch ein aktuelles Zeugnis von dir für unsere Ablage zusenden?"
   ]
  }
 ],
 "metadata": {
  "language_info": {
   "name": "python"
  }
 },
 "nbformat": 4,
 "nbformat_minor": 2
}
