{
 "cells": [
  {
   "cell_type": "markdown",
   "metadata": {},
   "source": [
    "# Task"
   ]
  },
  {
   "cell_type": "markdown",
   "metadata": {},
   "source": [
    "Aufgabe:\n",
    "Erstelle eine App, die eine der folgenden Funktionen implementiert:\n",
    "\n",
    "ENTWEDER: Fehlende Werte automatisch aus beliebigen CSV-Dateien entfernen, ähnlich wie in diesem Beispiel:\n",
    "https://drive.google.com/file/d/1SxNDorMb2ap3we3ZaCfR6NHjLBGBVG-S/view\n",
    "\n",
    "ODER: Den Umsatz für das Jahr 2022 aus jedem dieser PDF-Berichte extrahieren: https://drive.google.com/drive/folders/1bUOXwLdbK93l-SiEFa7EqYWI-RuOuYlK\n",
    "\n",
    "Details:\n",
    "Frontend: Die App kann ein Frontend nach deiner Wahl haben (z. B. mit Streamlit), muss aber nicht zwingend eines haben.\n",
    "Backend: Bitte verwende Python für das Backend.\n",
    "Datenbank: Du kannst SQLite, MySQL oder Postgres nutzen, um die bereinigten oder extrahierten Werte zu speichern.\n",
    "Bonus: Falls du ein LLM zur Lösung einer der Aufgaben verwendest, wäre das ein Pluspunkt.\n",
    "\n",
    "Du kannst etwa 4 Stunden für die Implementierung einplanen. Wir freuen uns auf dein Ergebnis! Könntest du uns bitte auch ein aktuelles Zeugnis von dir für unsere Ablage zusenden?"
   ]
  },
  {
   "cell_type": "markdown",
   "metadata": {},
   "source": [
    "## Extract PDF Reports: Solution"
   ]
  },
  {
   "cell_type": "markdown",
   "metadata": {},
   "source": [
    "Chunking PDFs—converting them into neat, machine-readable text chunks—is a major headache for any RAG systems. Both open-source and proprietary solutions exist, but none have truly achieved the ideal combination of accuracy, scalability, and cost-effectiveness.\n",
    "\n",
    "Source: https://www.sergey.fyi/articles/gemini-flash-2"
   ]
  },
  {
   "cell_type": "code",
   "execution_count": 3,
   "metadata": {},
   "outputs": [
    {
     "name": "stdout",
     "output_type": "stream",
     "text": [
      "72\n"
     ]
    }
   ],
   "source": [
    "from langchain_community.document_loaders import PyPDFLoader\n",
    "\n",
    "file_path = \"../data/raw/Arag_Geschaeftsbericht_KrankenversicherungsAG_2022.pdf\"\n",
    "\n",
    "loader = PyPDFLoader(file_path)\n",
    "\n",
    "docs = loader.load()\n",
    "\n",
    "print(len(docs))"
   ]
  },
  {
   "cell_type": "code",
   "execution_count": 5,
   "metadata": {},
   "outputs": [],
   "source": [
    "data = {\"Arag\" : \"../data/raw/Arag_Geschaeftsbericht_KrankenversicherungsAG_2022.pdf\",\n",
    "        \"Axa\" : \"../data/raw/Axa_Geschaeftsbericht_VersicherungsAG_2022.pdf\",\n",
    "        \"Continentale\" : \"../data/raw/Continentale_Geschaeftsbericht_2022.pdf\",\n",
    "        \"DKV\" : \"../data/raw/DKV_Geschaeftsbericht_2022.pdf\",\n",
    "        }"
   ]
  },
  {
   "cell_type": "code",
   "execution_count": 7,
   "metadata": {},
   "outputs": [
    {
     "name": "stdout",
     "output_type": "stream",
     "text": [
      "ARAG KRANKENVERSICHERUNGS-AG\n",
      "Geschäftsbericht 2022\n",
      "JAHRESABSCHLUSS UND LAGEBERICHT\n",
      "{'producer': 'Adobe PDF Library 15.0', 'creator': 'Adobe InDesign 15.1 (Macintosh)', 'creationdate': '2023-05-11T11:45:31+02:00', 'moddate': '2023-05-12T11:13:43+02:00', 'trapped': '/False', 'source': '../data/raw/Arag_Geschaeftsbericht_KrankenversicherungsAG_2022.pdf', 'total_pages': 72, 'page': 0, 'page_label': '1'}\n"
     ]
    }
   ],
   "source": [
    "print(docs[0].page_content[0:100])\n",
    "print(docs[0].metadata)"
   ]
  },
  {
   "cell_type": "code",
   "execution_count": 9,
   "metadata": {},
   "outputs": [],
   "source": [
    "from google import genai\n",
    "# Create a client\n",
    "api_key = \"XXXXX\"\n",
    "client = genai.Client(api_key=api_key)\n",
    " \n",
    "# Define the model you are going to use\n",
    "model_id =  \"gemini-2.0-flash\" # or \"gemini-2.0-flash-lite-preview-02-05\"  , \"gemini-2.0-pro-exp-02-05\""
   ]
  },
  {
   "cell_type": "code",
   "execution_count": null,
   "metadata": {},
   "outputs": [],
   "source": []
  }
 ],
 "metadata": {
  "kernelspec": {
   "display_name": "scavenger-venv",
   "language": "python",
   "name": "python3"
  },
  "language_info": {
   "codemirror_mode": {
    "name": "ipython",
    "version": 3
   },
   "file_extension": ".py",
   "mimetype": "text/x-python",
   "name": "python",
   "nbconvert_exporter": "python",
   "pygments_lexer": "ipython3",
   "version": "3.10.0"
  }
 },
 "nbformat": 4,
 "nbformat_minor": 2
}
